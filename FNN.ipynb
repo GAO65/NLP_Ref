{
  "nbformat": 4,
  "nbformat_minor": 0,
  "metadata": {
    "colab": {
      "provenance": [],
      "collapsed_sections": [],
      "authorship_tag": "ABX9TyN5uBx3YsDPe746d71cj92P",
      "include_colab_link": true
    },
    "kernelspec": {
      "name": "python3",
      "display_name": "Python 3"
    },
    "language_info": {
      "name": "python"
    }
  },
  "cells": [
    {
      "cell_type": "markdown",
      "metadata": {
        "id": "view-in-github",
        "colab_type": "text"
      },
      "source": [
        "<a href=\"https://colab.research.google.com/github/GAO65/NLP_Ref/blob/main/FNN.ipynb\" target=\"_parent\"><img src=\"https://colab.research.google.com/assets/colab-badge.svg\" alt=\"Open In Colab\"/></a>"
      ]
    },
    {
      "cell_type": "code",
      "execution_count": 26,
      "metadata": {
        "colab": {
          "base_uri": "https://localhost:8080/"
        },
        "id": "jUFvRgTzN0_C",
        "outputId": "a3873568-0068-4f68-ed1b-be5bfe9437dd"
      },
      "outputs": [
        {
          "output_type": "stream",
          "name": "stdout",
          "text": [
            "[[[0.39861719 0.87922697]\n",
            "  [0.468222   0.9062834 ]]\n",
            "\n",
            " [[0.04939569 0.44497878]\n",
            "  [0.06456808 0.5157365 ]]]\n"
          ]
        }
      ],
      "source": [
        "import numpy as np\n",
        "def Sigmoid(x):\n",
        "  return 1/(1+np.exp(-x))\n",
        "\n",
        "class Network(object):\n",
        "  # shape_size is a list which contains elemnts of in each layer, \n",
        "  # and the lenth of the list is the num of the layers. \n",
        "  def __init__(self, shape_size):  \n",
        "    self.num_layers = len(shape_size)\n",
        "    self.shape_size = shape_size\n",
        "    for x, y in zip(shape_size[:-1], shape_size[1:]):\n",
        "      self.weights = [np.random.randn(x, y)]\n",
        "    for y in shape_size[1:]:\n",
        "      self.biases = [np.random.randn(y, 1)]\n",
        "  def feedfoward(self, in_vec):\n",
        "    for w, b in zip(self.weights, self.biases):\n",
        "      out = Sigmoid(np.dot(in_vec, self.weights)+self.biases)\n",
        "    return out\n",
        "\n",
        "l = [2,3,2]\n",
        "a = Network(l)\n",
        "in_vec = [[1, 0, 1],[1,1,0]] \n",
        "print(a.feedfoward(in_vec))\n"
      ]
    },
    {
      "cell_type": "code",
      "source": [
        "import numpy as np\n",
        "a = [1, 2, 3, 4]\n",
        "print(a[:-1])\n",
        "print(a[1:])\n",
        "for x, y in zip(a[:-1], a[1:]):\n",
        "  print(x, y)\n",
        "  b = np.random.randn(x, y)\n",
        "for y in zip(a[1:]):\n",
        "  print(y)\n",
        "  # c = np.random.randn(y, 1)\n",
        "print(b)\n",
        "# print(c)\n",
        "d = np.random.randn(3, 1)\n",
        "print(d)"
      ],
      "metadata": {
        "colab": {
          "base_uri": "https://localhost:8080/"
        },
        "id": "psQaS5v-RU89",
        "outputId": "fbdf7372-dd5b-46fa-bd7f-9dce6119e02e"
      },
      "execution_count": 25,
      "outputs": [
        {
          "output_type": "stream",
          "name": "stdout",
          "text": [
            "[1, 2, 3]\n",
            "[2, 3, 4]\n",
            "1 2\n",
            "2 3\n",
            "3 4\n",
            "(2,)\n",
            "(3,)\n",
            "(4,)\n",
            "[[ 0.74403869  2.37538609  0.98771416  0.76220731]\n",
            " [-1.13639278 -0.18202708 -0.65170929 -0.27931705]\n",
            " [-0.16254065  1.63577838  0.15197873 -0.92947833]]\n",
            "[[-0.00970758]\n",
            " [ 0.03080243]\n",
            " [-0.8554993 ]]\n"
          ]
        }
      ]
    }
  ]
}